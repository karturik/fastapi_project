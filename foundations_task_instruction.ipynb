{
 "cells": [
  {
   "cell_type": "markdown",
   "metadata": {
    "datalore": {
     "hide_input_from_viewers": false,
     "hide_output_from_viewers": false,
     "node_id": "szhhMTQezGOwwJUmjUpNYJ",
     "type": "MD"
    }
   },
   "source": [
    "<h2>Подготовка к работе</h2>\n",
    "Подготовка окружения и импортирование всех необходимых библиотек:"
   ]
  },
  {
   "cell_type": "code",
   "execution_count": 3,
   "metadata": {
    "datalore": {
     "hide_input_from_viewers": false,
     "hide_output_from_viewers": false,
     "node_id": "hvbXYEDr9wFMLnGHDkNQpX",
     "type": "CODE"
    }
   },
   "outputs": [],
   "source": [
    "!pip install pandas\n",
    "\n",
    "import requests\n",
    "import json\n",
    "import pandas as pd"
   ]
  },
  {
   "cell_type": "markdown",
   "metadata": {
    "datalore": {
     "hide_input_from_viewers": false,
     "hide_output_from_viewers": false,
     "node_id": "S4Vgh3FMzlfxMKzgXdXhrB",
     "type": "MD"
    }
   },
   "source": [
    "Для работы с API понадобится токен пользователя, который необходимо внести в переменную HEADERS:"
   ]
  },
  {
   "cell_type": "code",
   "execution_count": 4,
   "metadata": {
    "datalore": {
     "hide_input_from_viewers": false,
     "hide_output_from_viewers": false,
     "node_id": "SUetLCqIcr0Hfkk2o25e0t",
     "type": "CODE"
    }
   },
   "outputs": [],
   "source": [
    "HEADERS = {'Authorization':'{токен пользователя}'}"
   ]
  },
  {
   "cell_type": "markdown",
   "metadata": {
    "datalore": {
     "hide_input_from_viewers": false,
     "hide_output_from_viewers": false,
     "node_id": "0E9sfD3NStfCXXlJuYjuqR",
     "type": "MD"
    }
   },
   "source": [
    "<h2>Добавление нового задания</h2>\n",
    "Для добавления нового фонда к рабочему пулу по сбору инвестиционного портфеля со страницы фонда небходимо сделать POST запрос к серверу с url фонда:"
   ]
  },
  {
   "cell_type": "code",
   "execution_count": 6,
   "metadata": {
    "datalore": {
     "hide_input_from_viewers": false,
     "hide_output_from_viewers": false,
     "node_id": "yypwETnxQNFjBjgBeeKIxJ",
     "type": "CODE"
    }
   },
   "outputs": [],
   "source": [
    "data = {\n",
    "        'foundation_url':'https://www.example.com/',\n",
    "        }\n",
    "\n",
    "\n",
    "r = requests.post(url='https://api-toloka.trainingdata.pro/api/v0/foundation', json=data, headers=HEADERS)\n",
    "response = json.loads(r.content)\n",
    "print(response)"
   ]
  },
  {
   "cell_type": "markdown",
   "metadata": {
    "datalore": {
     "hide_input_from_viewers": false,
     "hide_output_from_viewers": false,
     "node_id": "Ee8l3TwJZwH7GOm2n8BnNh",
     "type": "MD"
    }
   },
   "source": [
    "В ответ будет сгенерирован id задачи:"
   ]
  },
  {
   "cell_type": "code",
   "execution_count": null,
   "metadata": {
    "datalore": {
     "hide_input_from_viewers": false,
     "hide_output_from_viewers": false,
     "node_id": "DOdMk8mYVJRaDvz2RSsKtj",
     "type": "CODE"
    }
   },
   "outputs": [],
   "source": [
    "{'id': '{ID задачи}'}"
   ]
  },
  {
   "cell_type": "markdown",
   "metadata": {
    "datalore": {
     "hide_input_from_viewers": false,
     "hide_output_from_viewers": false,
     "node_id": "M2IECGjKSLxniERjxBTbsS",
     "type": "MD"
    }
   },
   "source": [
    "<h2>Получение информации о компании</h2>\n",
    "По полученному id можно узнать статус задачи и получить данные с помощью GET запроса:"
   ]
  },
  {
   "cell_type": "code",
   "execution_count": 10,
   "metadata": {
    "datalore": {
     "hide_input_from_viewers": false,
     "hide_output_from_viewers": false,
     "node_id": "NR7iNuYxVjpG3LS5tn7A42",
     "type": "CODE"
    }
   },
   "outputs": [],
   "source": [
    "r = requests.get(url='https://api-toloka.trainingdata.pro/api/v0/foundation/{ID задачи}', headers=HEADERS)\n",
    "response = json.loads(r.content)\n",
    "print(response)"
   ]
  },
  {
   "cell_type": "markdown",
   "metadata": {
    "datalore": {
     "hide_input_from_viewers": false,
     "hide_output_from_viewers": false,
     "node_id": "6UBVcdMAhDHzmBuQXC907B",
     "type": "MD"
    }
   },
   "source": [
    "В ответе сервера будут данные: адрес фонда, дата добавления задачи и ее текущий статус:"
   ]
  },
  {
   "cell_type": "code",
   "execution_count": null,
   "metadata": {
    "datalore": {
     "hide_input_from_viewers": false,
     "hide_output_from_viewers": false,
     "node_id": "0aj8ul6MNOYNa8iqf6Cd3C",
     "type": "CODE"
    }
   },
   "outputs": [],
   "source": [
    "{'foundation_url': 'https://www.example.com/', 'add_date': '2022-11-11', 'status': 'WAIT'}"
   ]
  },
  {
   "cell_type": "markdown",
   "metadata": {
    "datalore": {
     "hide_input_from_viewers": false,
     "hide_output_from_viewers": false,
     "node_id": "12am8Oiu4pJzg1CwmpyL1m",
     "type": "MD"
    }
   },
   "source": [
    "Когда задание будет принято в работу, его статус изменится на **'IN WORK'**:"
   ]
  },
  {
   "cell_type": "code",
   "execution_count": null,
   "metadata": {
    "datalore": {
     "hide_input_from_viewers": false,
     "hide_output_from_viewers": false,
     "node_id": "Uq2bbV7MbqngqjtfDkoL4j",
     "type": "CODE"
    }
   },
   "outputs": [],
   "source": [
    "{'foundation_url': 'https://www.example.com/', 'add_date': '2022-11-11', 'status': 'IN WORK'}"
   ]
  },
  {
   "cell_type": "markdown",
   "metadata": {
    "datalore": {
     "hide_input_from_viewers": false,
     "hide_output_from_viewers": false,
     "node_id": "vONSN6j75INOK2RkWsF60J",
     "type": "MD"
    }
   },
   "source": [
    "Когда задание будет выполнено, его статус изменится на **'DONE'**, а в ответе будет вся полученная информация:"
   ]
  },
  {
   "cell_type": "code",
   "execution_count": null,
   "metadata": {
    "datalore": {
     "hide_input_from_viewers": false,
     "hide_output_from_viewers": false,
     "node_id": "Fonhp4NKyAZ0czC7bHQVif",
     "type": "CODE"
    }
   },
   "outputs": [],
   "source": [
    "{'id': 'ID задачи', 'foundation_url': 'https://www.example.com/', 'companies_on_page_count': '51+', 'site_quality': 'Good. Page works and companies page found', 'companies_page': 'https://www.example.com/portfolio/list', 'companies_list': '[{\"companyName\":\"Apple INC\",\"companyURL\":\"https://www.apple.com\", \"isSold\":true,\"companyPicURL\":\"https://www.apple.com/logo.png\"}]', 'status': 'DONE', 'timestamp': '2022-11-11'}"
   ]
  },
  {
   "cell_type": "markdown",
   "metadata": {
    "datalore": {
     "hide_input_from_viewers": false,
     "hide_output_from_viewers": false,
     "node_id": "4TJvxyWAPw7kzm2KlHkl38",
     "type": "MD"
    }
   },
   "source": [
    "- **id** - id задачи\n",
    "- **foundation_url** - адрес сайта фонда\n",
    "- **companies_on_page_count** - количество компаний на странице, в которые фонд инвестировал\n",
    "- **site_quality** - статус сайта компании, возможны следующие варианты:<p>\n",
    "    1) \"Good. Page works and companies page found\" - сайт работает и страница инвестиционного портфеля найдена.\n",
    "    2) \"Site works good, but there is no companies page\" - сайт работает, но страница инвестиционного портфеля не найдена.\n",
    "    3) \"Site is in an unclear language (not Russian and not English)\" - сайт не на русском и не на английском языках.\n",
    "    4) \"Site don't work or it can't be opened\" - сайт не работает.\n",
    "- **companies_page** - страница инвестиционного портфеля\n",
    "- **companies_list** - список компаний, в которые инвестировал фонд, включающий в себя: название, сайт, пометку о продаже компании и ссылку на логотип компании.\n",
    "- **status** - статус задания\n",
    "- **timestamp** - дата принятия задания в работу"
   ]
  }
 ],
 "metadata": {
  "datalore": {
   "base_environment": "default",
   "computation_mode": "JUPYTER",
   "package_manager": "pip",
   "packages": [],
   "version": 1
  },
  "kernelspec": {
   "display_name": "Python 3 (ipykernel)",
   "language": "python",
   "name": "python3"
  },
  "language_info": {
   "codemirror_mode": {
    "name": "ipython",
    "version": 3
   },
   "file_extension": ".py",
   "mimetype": "text/x-python",
   "name": "python",
   "nbconvert_exporter": "python",
   "pygments_lexer": "ipython3",
   "version": "3.8.10"
  }
 },
 "nbformat": 4,
 "nbformat_minor": 4
}
