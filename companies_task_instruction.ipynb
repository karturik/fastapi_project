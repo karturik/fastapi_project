{
 "cells":[
  {
   "cell_type":"markdown",
   "source":[
    "<h2>Подготовка к работе<\/h2>\n",
    "Подготовка окружения и импортирование всех необходимых библиотек:"
   ],
   "attachments":{
    
   },
   "metadata":{
    "datalore":{
     "node_id":"szhhMTQezGOwwJUmjUpNYJ",
     "type":"MD",
     "hide_input_from_viewers":false,
     "hide_output_from_viewers":false
    }
   }
  },
  {
   "cell_type":"code",
   "source":[
    "!pip install pandas\n",
    "\n",
    "import requests\n",
    "import json\n",
    "import pandas as pd"
   ],
   "execution_count":3,
   "outputs":[
    
   ],
   "metadata":{
    "datalore":{
     "node_id":"hvbXYEDr9wFMLnGHDkNQpX",
     "type":"CODE",
     "hide_input_from_viewers":false,
     "hide_output_from_viewers":false
    }
   }
  },
  {
   "cell_type":"markdown",
   "source":[
    "Для работы с API понадобится токен пользователя, который необходимо внести в переменную HEADERS:"
   ],
   "attachments":{
    
   },
   "metadata":{
    "datalore":{
     "node_id":"S4Vgh3FMzlfxMKzgXdXhrB",
     "type":"MD",
     "hide_input_from_viewers":false,
     "hide_output_from_viewers":false
    }
   }
  },
  {
   "cell_type":"code",
   "source":[
    "HEADERS = {'Authorization':'{токен пользователя}'}"
   ],
   "execution_count":4,
   "outputs":[
    
   ],
   "metadata":{
    "datalore":{
     "node_id":"SUetLCqIcr0Hfkk2o25e0t",
     "type":"CODE",
     "hide_input_from_viewers":false,
     "hide_output_from_viewers":false
    }
   }
  },
  {
   "cell_type":"markdown",
   "source":[
    "<h2>Добавление нового задания<\/h2>\n",
    "Для добавления новой компании к рабочему пулу по сбору команды со страницы компании небходимо сделать POST запрос к серверу с url компании:"
   ],
   "attachments":{
    
   },
   "metadata":{
    "datalore":{
     "node_id":"0E9sfD3NStfCXXlJuYjuqR",
     "type":"MD",
     "hide_input_from_viewers":false,
     "hide_output_from_viewers":false
    }
   }
  },
  {
   "cell_type":"code",
   "source":[
    "data = {\n",
    "        'company_url':'https:\/\/www.example.com\/',\n",
    "        }\n",
    "\n",
    "\n",
    "r = requests.post(url='https:\/\/api-toloka.trainingdata.pro\/api\/v0\/company', json=data, headers=HEADERS)\n",
    "response = json.loads(r.content)\n",
    "print(response)"
   ],
   "execution_count":6,
   "outputs":[
    
   ],
   "metadata":{
    "datalore":{
     "node_id":"yypwETnxQNFjBjgBeeKIxJ",
     "type":"CODE",
     "hide_input_from_viewers":false,
     "hide_output_from_viewers":false
    }
   }
  },
  {
   "cell_type":"markdown",
   "source":[
    "В ответ будет сгенерирован id задачи:"
   ],
   "attachments":{
    
   },
   "metadata":{
    "datalore":{
     "node_id":"Ee8l3TwJZwH7GOm2n8BnNh",
     "type":"MD",
     "hide_input_from_viewers":false,
     "hide_output_from_viewers":false
    }
   }
  },
  {
   "cell_type":"code",
   "source":[
    "{'id': '{ID задачи}'}"
   ],
   "execution_count":null,
   "outputs":[
    
   ],
   "metadata":{
    "datalore":{
     "node_id":"DOdMk8mYVJRaDvz2RSsKtj",
     "type":"CODE",
     "hide_input_from_viewers":false,
     "hide_output_from_viewers":false
    }
   }
  },
  {
   "cell_type":"markdown",
   "source":[
    "<h2>Получение информации о компании<\/h2>\n",
    "По полученному id можно узнать статус задачи и получить данные с помощью GET запроса:"
   ],
   "attachments":{
    
   },
   "metadata":{
    "datalore":{
     "node_id":"M2IECGjKSLxniERjxBTbsS",
     "type":"MD",
     "hide_input_from_viewers":false,
     "hide_output_from_viewers":false
    }
   }
  },
  {
   "cell_type":"code",
   "source":[
    "r = requests.get(url='https:\/\/api-toloka.trainingdata.pro\/api\/v0\/company\/{ID задачи}', headers=HEADERS)\n",
    "response = json.loads(r.content)\n",
    "print(response)"
   ],
   "execution_count":10,
   "outputs":[
    
   ],
   "metadata":{
    "datalore":{
     "node_id":"NR7iNuYxVjpG3LS5tn7A42",
     "type":"CODE",
     "hide_input_from_viewers":false,
     "hide_output_from_viewers":false
    }
   }
  },
  {
   "cell_type":"markdown",
   "source":[
    "В ответе сервера будут данные: адрес компании, дата добавления задачи и ее текущий статус:"
   ],
   "attachments":{
    
   },
   "metadata":{
    "datalore":{
     "node_id":"6UBVcdMAhDHzmBuQXC907B",
     "type":"MD",
     "hide_input_from_viewers":false,
     "hide_output_from_viewers":false
    }
   }
  },
  {
   "cell_type":"code",
   "source":[
    "{'company_url': 'https:\/\/www.example.com\/', 'add_date': '2022-11-11', 'status': 'WAIT'}"
   ],
   "execution_count":null,
   "outputs":[
    
   ],
   "metadata":{
    "datalore":{
     "node_id":"0aj8ul6MNOYNa8iqf6Cd3C",
     "type":"CODE",
     "hide_input_from_viewers":false,
     "hide_output_from_viewers":false
    }
   }
  },
  {
   "cell_type":"markdown",
   "source":[
    "Когда задание будет принято в работу, его статус изменится на **'IN WORK'**:"
   ],
   "attachments":{
    
   },
   "metadata":{
    "datalore":{
     "node_id":"12am8Oiu4pJzg1CwmpyL1m",
     "type":"MD",
     "hide_input_from_viewers":false,
     "hide_output_from_viewers":false
    }
   }
  },
  {
   "cell_type":"code",
   "source":[
    "{'company_url': 'https:\/\/www.example.com\/', 'add_date': '2022-11-11', 'status': 'IN WORK'}"
   ],
   "execution_count":null,
   "outputs":[
    
   ],
   "metadata":{
    "datalore":{
     "node_id":"Uq2bbV7MbqngqjtfDkoL4j",
     "type":"CODE",
     "hide_input_from_viewers":false,
     "hide_output_from_viewers":false
    }
   }
  },
  {
   "cell_type":"markdown",
   "source":[
    "Когда задание будет выполнено, его статус изменится на **'DONE'**, а в ответе будет вся полученная информация:"
   ],
   "attachments":{
    
   },
   "metadata":{
    "datalore":{
     "node_id":"vONSN6j75INOK2RkWsF60J",
     "type":"MD",
     "hide_input_from_viewers":false,
     "hide_output_from_viewers":false
    }
   }
  },
  {
   "cell_type":"code",
   "source":[
    "{'company_url': 'https:\/\/www.example.com\/', 'id': 'ID задачи', 'team_size': '21-50', 'site_quality': 'Good. Page works and team found', 'team_page_url': 'https:\/\/www.example.com\/people\/', 'team_member_list': '[{\"fullName\":\"John Smith\",\"jobTitle\":\"Co-Founder \/ Managing Partner\", \"email\":\"john_sm@gmail.com\"}]', 'status': 'DONE', 'timestamp': '2022-11-11'}"
   ],
   "execution_count":null,
   "outputs":[
    
   ],
   "metadata":{
    "datalore":{
     "node_id":"Fonhp4NKyAZ0czC7bHQVif",
     "type":"CODE",
     "hide_input_from_viewers":false,
     "hide_output_from_viewers":false
    }
   }
  },
  {
   "cell_type":"markdown",
   "source":[
    "- **company_url** - адрес компании\n",
    "- **id** - id задачи\n",
    "- **team_size** - количество членов команды компании\n",
    "- **site_quality** - статус сайта компании, возможны следующие варианты:<p>\n",
    "    1) \"Good. Page works and team found\" - сайт работает и страница команды найдена.\n",
    "    2) \"Site works good, but there is no team page\" - сайт работает, но страница команды не найдена.\n",
    "    3) \"Site is in an unclear language (not Russian and not English)\" - сайт не на русском и не на английском языках.\n",
    "    4) \"Site don't work or it can't be opened\" - сайт не работает.\n",
    "- **team_page_url** - страница команды компании\n",
    "- **team_member_list** - список членов команды, включающий в себя имя, должность и email сотрудника.\n",
    "- **status** - статус задания\n",
    "- **timestamp** - дата принятия задания в работу"
   ],
   "attachments":{
    
   },
   "metadata":{
    "datalore":{
     "node_id":"4TJvxyWAPw7kzm2KlHkl38",
     "type":"MD",
     "hide_input_from_viewers":false,
     "hide_output_from_viewers":false
    }
   }
  }
 ],
 "metadata":{
  "kernelspec":{
   "display_name":"Python",
   "language":"python",
   "name":"python"
  },
  "datalore":{
   "version":1,
   "computation_mode":"JUPYTER",
   "package_manager":"pip",
   "base_environment":"default",
   "packages":[
    
   ]
  }
 },
 "nbformat":4,
 "nbformat_minor":4
}